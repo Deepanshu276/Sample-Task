{
 "cells": [
  {
   "cell_type": "markdown",
   "metadata": {},
   "source": [
    "# Animate bivariate normal distribution using jax"
   ]
  },
  {
   "cell_type": "markdown",
   "metadata": {},
   "source": [
    "The density function describes the relative likelihood of a random variable X     at a given sample. If the value is high around a given sample, that means that the random variable will most probably take on that value when sampled at random. Responsible for its characteristic “bell shape”, the density function of a given bivariate Gaussian random variable X     is mathematically defined as:\n",
    "\n",
    "f_X(x) = \\frac{1}{{ \\sqrt {2\\pi|\\Sigma| }}} exp\\begin{pmatrix}\\frac{-(x-\\mu)^T \\Sigma^{-1}(x-\\mu)}{2} \\end{pmatrix}   \n",
    "\n",
    "Where x        is any input vector \\in \\mathbb{R^2}         while the symbols \\mu        and \\Sigma        have their usual meaning."
   ]
  },
  {
   "cell_type": "markdown",
   "metadata": {},
   "source": [
    "# jax.random.multivariate_normal"
   ]
  },
  {
   "cell_type": "code",
   "execution_count": null,
   "metadata": {},
   "outputs": [],
   "source": [
    "jax.random.multivariate_normal(key, mean, cov, shape=None, dtype=<class 'numpy.float64'>, method='cholesky')[source]"
   ]
  },
  {
   "cell_type": "markdown",
   "metadata": {},
   "source": [
    "Parameters\n",
    "key (Union[Any, PRNGKeyArray]) – a PRNG key used as the random key.\n",
    "\n",
    "mean (Any) – a mean vector of shape (..., n).\n",
    "\n",
    "cov (Any) – a positive definite covariance matrix of shape (..., n, n). The batch shape ... must be broadcast-compatible with that of mean.\n",
    "\n",
    "shape (Optional[Sequence[int]]) – optional, a tuple of nonnegative integers specifying the result batch shape; that is, the prefix of the result shape excluding the last axis. Must be broadcast-compatible with mean.shape[:-1] and cov.shape[:-2]. The default (None) produces a result batch shape by broadcasting together the batch shapes of mean and cov.\n",
    "\n",
    "dtype (Any) – optional, a float dtype for the returned values (default float64 if jax_enable_x64 is true, otherwise float32).\n",
    "\n",
    "method (str) – optional, a method to compute the factor of cov. Must be one of ‘svd’, eigh, and ‘cholesky’. Default ‘cholesky’.\n",
    "\n",
    "Return type\n",
    "ndarray\n",
    "\n",
    "Returns\n",
    "A random array with the specified dtype and shape given by shape + mean.shape[-1:] if shape is not None, or else broadcast_shapes(mean.shape[:-1], cov.shape[:-2]) + mean.shape[-1:]."
   ]
  },
  {
   "cell_type": "code",
   "execution_count": null,
   "metadata": {},
   "outputs": [],
   "source": [
    "#Importing the necessary modules\n",
    "import numpy as np\n",
    "import matplotlib.pyplot as plt\n",
    "from jax import random\n",
    "key = random.PRNGKey(0)\n",
    "random.multivariate_normal(key=key, mean=mean, cov=cov, shape=None, method='cholesky')\n",
    "\n",
    "\n",
    "plt.style.use('seaborn-dark')\n",
    "plt.rcParams['figure.figsize']=14,6\n",
    "fig = plt.figure()\n",
    "\n",
    "# Initializing the random seed\n",
    "random_seed=1000\n",
    "\n",
    "# List containing the variance\n",
    "# covariance values\n",
    "cov_val = [-0.8, 0, 0.8]\n",
    "\n",
    "# Setting mean of the distributino\n",
    "# to be at (0,0)\n",
    "mean = np.array([0,0])\n",
    "\n",
    "# Storing density function values for\n",
    "# further analysis\n",
    "pdf_list = []\n",
    "\n",
    "# Iterating over different covariance values\n",
    "for idx, val in enumerate(cov_val):\n",
    "\n",
    "# Initializing the covariance matrix\n",
    "    cov = np.array([[1, val], [val, 1]])\n",
    "    # Generating a meshgrid complacent with\n",
    "    # the 3-sigma boundary\n",
    "    mean_1, mean_2 = mean[0], mean[1]\n",
    "    sigma_1, sigma_2 = cov[0,0], cov[1,1]\n",
    "\n",
    "    x = np.linspace(-3*sigma_1, 3*sigma_1, num=100)\n",
    "    y = np.linspace(-3*sigma_2, 3*sigma_2, num=100)\n",
    "    X, Y = np.meshgrid(x,y)\n",
    "    \n",
    "    # Generating the density function\n",
    "    # for each point in the meshgrid\n",
    "    pdf = np.zeros(X.shape)\n",
    "    for i in range(X.shape[0]):\n",
    "        for j in range(X.shape[1]):\n",
    "            pdf[i,j] = distr.pdf([X[i,j], Y[i,j]])\n",
    "\n",
    "# Plotting the density function values\n",
    "    key = 131+idx\n",
    "    ax = fig.add_subplot(key, projection = '3d')\n",
    "    ax.plot_surface(X, Y, pdf, cmap = 'viridis')\n",
    "    plt.xlabel(\"x1\")\n",
    "    plt.ylabel(\"x2\")\n",
    "    plt.title(f'Covariance between x1 and x2 = {val}')\n",
    "    pdf_list.append(pdf)\n",
    "    ax.axes.zaxis.set_ticks([])\n",
    "\n",
    "plt.tight_layout()\n",
    "plt.show()\n",
    "\n"
   ]
  },
  {
   "cell_type": "markdown",
   "metadata": {},
   "source": [
    "# Conclusion\n",
    "We understood the various intricacies behind the Gaussian bivariate distribution through a series of plots and verified the theoretical results with the practical findings using Python. The reader is encouraged to play around with the code snippets for gaining a much more profound intuition about this magical distribution!"
   ]
  },
  {
   "cell_type": "markdown",
   "metadata": {},
   "source": [
    "# References\n",
    "For Studying Bivariate Normal Distribution : https://en.wikipedia.org/wiki/Multivariate_normal_distribution\n",
    "\n",
    "For Studying Jax Syntax for animating Bivariate Normal Distribution: https://jax.readthedocs.io/en/latest/_autosummary/jax.random.multivariate_normal.html#jax.random.multivariate_normal"
   ]
  },
  {
   "cell_type": "code",
   "execution_count": null,
   "metadata": {},
   "outputs": [],
   "source": []
  },
  {
   "cell_type": "code",
   "execution_count": null,
   "metadata": {},
   "outputs": [],
   "source": []
  },
  {
   "cell_type": "code",
   "execution_count": null,
   "metadata": {},
   "outputs": [],
   "source": []
  },
  {
   "cell_type": "code",
   "execution_count": null,
   "metadata": {},
   "outputs": [],
   "source": []
  }
 ],
 "metadata": {
  "kernelspec": {
   "display_name": "Python 3",
   "language": "python",
   "name": "python3"
  },
  "language_info": {
   "codemirror_mode": {
    "name": "ipython",
    "version": 3
   },
   "file_extension": ".py",
   "mimetype": "text/x-python",
   "name": "python",
   "nbconvert_exporter": "python",
   "pygments_lexer": "ipython3",
   "version": "3.8.3"
  }
 },
 "nbformat": 4,
 "nbformat_minor": 4
}
